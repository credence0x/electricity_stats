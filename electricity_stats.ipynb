{
  "nbformat": 4,
  "nbformat_minor": 0,
  "metadata": {
    "colab": {
      "name": "electricity_stats.ipynb",
      "provenance": [],
      "collapsed_sections": []
    },
    "kernelspec": {
      "name": "python3",
      "display_name": "Python 3"
    },
    "language_info": {
      "name": "python"
    }
  },
  "cells": [
    {
      "cell_type": "code",
      "metadata": {
        "colab": {
          "base_uri": "https://localhost:8080/",
          "height": 224
        },
        "id": "f35CrNYhshmS",
        "outputId": "47cc9fb9-3a7a-4c7e-9bdb-70d0c8ed208f"
      },
      "source": [
        "import pandas as pd\n",
        "import numpy as np\n",
        "url = \"https://raw.githubusercontent.com/WalePhenomenon/climate_change/master/fuel_ferc1.csv\"\n",
        "fuel = pd.read_csv(url)\n",
        "fuel.head()"
      ],
      "execution_count": 1,
      "outputs": [
        {
          "output_type": "execute_result",
          "data": {
            "text/html": [
              "<div>\n",
              "<style scoped>\n",
              "    .dataframe tbody tr th:only-of-type {\n",
              "        vertical-align: middle;\n",
              "    }\n",
              "\n",
              "    .dataframe tbody tr th {\n",
              "        vertical-align: top;\n",
              "    }\n",
              "\n",
              "    .dataframe thead th {\n",
              "        text-align: right;\n",
              "    }\n",
              "</style>\n",
              "<table border=\"1\" class=\"dataframe\">\n",
              "  <thead>\n",
              "    <tr style=\"text-align: right;\">\n",
              "      <th></th>\n",
              "      <th>record_id</th>\n",
              "      <th>utility_id_ferc1</th>\n",
              "      <th>report_year</th>\n",
              "      <th>plant_name_ferc1</th>\n",
              "      <th>fuel_type_code_pudl</th>\n",
              "      <th>fuel_unit</th>\n",
              "      <th>fuel_qty_burned</th>\n",
              "      <th>fuel_mmbtu_per_unit</th>\n",
              "      <th>fuel_cost_per_unit_burned</th>\n",
              "      <th>fuel_cost_per_unit_delivered</th>\n",
              "      <th>fuel_cost_per_mmbtu</th>\n",
              "    </tr>\n",
              "  </thead>\n",
              "  <tbody>\n",
              "    <tr>\n",
              "      <th>0</th>\n",
              "      <td>f1_fuel_1994_12_1_0_7</td>\n",
              "      <td>1</td>\n",
              "      <td>1994</td>\n",
              "      <td>rockport</td>\n",
              "      <td>coal</td>\n",
              "      <td>ton</td>\n",
              "      <td>5377489.0</td>\n",
              "      <td>16.590</td>\n",
              "      <td>18.59</td>\n",
              "      <td>18.53</td>\n",
              "      <td>1.121</td>\n",
              "    </tr>\n",
              "    <tr>\n",
              "      <th>1</th>\n",
              "      <td>f1_fuel_1994_12_1_0_10</td>\n",
              "      <td>1</td>\n",
              "      <td>1994</td>\n",
              "      <td>rockport total plant</td>\n",
              "      <td>coal</td>\n",
              "      <td>ton</td>\n",
              "      <td>10486945.0</td>\n",
              "      <td>16.592</td>\n",
              "      <td>18.58</td>\n",
              "      <td>18.53</td>\n",
              "      <td>1.120</td>\n",
              "    </tr>\n",
              "    <tr>\n",
              "      <th>2</th>\n",
              "      <td>f1_fuel_1994_12_2_0_1</td>\n",
              "      <td>2</td>\n",
              "      <td>1994</td>\n",
              "      <td>gorgas</td>\n",
              "      <td>coal</td>\n",
              "      <td>ton</td>\n",
              "      <td>2978683.0</td>\n",
              "      <td>24.130</td>\n",
              "      <td>39.72</td>\n",
              "      <td>38.12</td>\n",
              "      <td>1.650</td>\n",
              "    </tr>\n",
              "    <tr>\n",
              "      <th>3</th>\n",
              "      <td>f1_fuel_1994_12_2_0_7</td>\n",
              "      <td>2</td>\n",
              "      <td>1994</td>\n",
              "      <td>barry</td>\n",
              "      <td>coal</td>\n",
              "      <td>ton</td>\n",
              "      <td>3739484.0</td>\n",
              "      <td>23.950</td>\n",
              "      <td>47.21</td>\n",
              "      <td>45.99</td>\n",
              "      <td>1.970</td>\n",
              "    </tr>\n",
              "    <tr>\n",
              "      <th>4</th>\n",
              "      <td>f1_fuel_1994_12_2_0_10</td>\n",
              "      <td>2</td>\n",
              "      <td>1994</td>\n",
              "      <td>chickasaw</td>\n",
              "      <td>gas</td>\n",
              "      <td>mcf</td>\n",
              "      <td>40533.0</td>\n",
              "      <td>1.000</td>\n",
              "      <td>2.77</td>\n",
              "      <td>2.77</td>\n",
              "      <td>2.570</td>\n",
              "    </tr>\n",
              "  </tbody>\n",
              "</table>\n",
              "</div>"
            ],
            "text/plain": [
              "                record_id  ...  fuel_cost_per_mmbtu\n",
              "0   f1_fuel_1994_12_1_0_7  ...                1.121\n",
              "1  f1_fuel_1994_12_1_0_10  ...                1.120\n",
              "2   f1_fuel_1994_12_2_0_1  ...                1.650\n",
              "3   f1_fuel_1994_12_2_0_7  ...                1.970\n",
              "4  f1_fuel_1994_12_2_0_10  ...                2.570\n",
              "\n",
              "[5 rows x 11 columns]"
            ]
          },
          "metadata": {},
          "execution_count": 1
        }
      ]
    },
    {
      "cell_type": "code",
      "metadata": {
        "colab": {
          "base_uri": "https://localhost:8080/"
        },
        "id": "ofPfDL2_Erli",
        "outputId": "c4dab0e0-2a18-46e2-a288-45333088f6fe"
      },
      "source": [
        "print(np.identity(3))"
      ],
      "execution_count": 2,
      "outputs": [
        {
          "output_type": "stream",
          "text": [
            "[[1. 0. 0.]\n",
            " [0. 1. 0.]\n",
            " [0. 0. 1.]]\n"
          ],
          "name": "stdout"
        }
      ]
    },
    {
      "cell_type": "code",
      "metadata": {
        "colab": {
          "base_uri": "https://localhost:8080/"
        },
        "id": "A5WxTHSKumWI",
        "outputId": "822f72e0-87e9-4c4f-bd54-39392c288d52"
      },
      "source": [
        "# Which of the following fuel type code has the lowest average fuel cost per unit burned?\n",
        "average = fuel.groupby(\"fuel_type_code_pudl\")[['fuel_cost_per_unit_burned']].mean() \n",
        "print(average.sort_values(\"fuel_cost_per_unit_burned\")) \n",
        "# answer is gas"
      ],
      "execution_count": 3,
      "outputs": [
        {
          "output_type": "stream",
          "text": [
            "                     fuel_cost_per_unit_burned\n",
            "fuel_type_code_pudl                           \n",
            "gas                                  13.659397\n",
            "other                                18.253856\n",
            "waste                                19.518122\n",
            "coal                                 67.421830\n",
            "oil                                 168.877086\n",
            "nuclear                            4955.157002\n"
          ],
          "name": "stdout"
        }
      ]
    },
    {
      "cell_type": "code",
      "metadata": {
        "colab": {
          "base_uri": "https://localhost:8080/"
        },
        "id": "dnWkajvcwbdv",
        "outputId": "f5a352f9-a0d8-4845-8ba4-e4e564424bb7"
      },
      "source": [
        "# What is the standard deviation and 75th percentile of the measure of energy per unit (Fuel_mmbtu_per_unit) in two decimal places?\n",
        "print(fuel[\"fuel_mmbtu_per_unit\"].describe())\n",
        "# answer std=10.6 and 75 percentile is 17.006000"
      ],
      "execution_count": 4,
      "outputs": [
        {
          "output_type": "stream",
          "text": [
            "count    29523.000000\n",
            "mean         8.492111\n",
            "std         10.600220\n",
            "min          0.000001\n",
            "25%          1.024000\n",
            "50%          5.762694\n",
            "75%         17.006000\n",
            "max        341.260000\n",
            "Name: fuel_mmbtu_per_unit, dtype: float64\n"
          ],
          "name": "stdout"
        }
      ]
    },
    {
      "cell_type": "code",
      "metadata": {
        "colab": {
          "base_uri": "https://localhost:8080/"
        },
        "id": "bXbYApH3xXrq",
        "outputId": "1299293e-bc1c-4e27-a360-966c9c7e3e01"
      },
      "source": [
        "# What is the skewness and kurtosis for the fuel quantity burned in two decimal places?\n",
        "print(fuel[\"fuel_qty_burned\"].skew(),fuel[\"fuel_qty_burned\"].kurt())\n",
        "# answers are 15.85 and 651.37 respectively"
      ],
      "execution_count": 5,
      "outputs": [
        {
          "output_type": "stream",
          "text": [
            "15.851495469109503 651.3694501337732\n"
          ],
          "name": "stdout"
        }
      ]
    },
    {
      "cell_type": "code",
      "metadata": {
        "colab": {
          "base_uri": "https://localhost:8080/"
        },
        "id": "Nuo99m_Xya0l",
        "outputId": "5d653930-0680-4984-8ce3-e9cc1c79d9c0"
      },
      "source": [
        "# Which feature has missing values and what is the total number of missing value and percentage of the missing rows as a factor of the total number of rows in three decimal places?\n",
        "print(fuel.isnull().sum())"
      ],
      "execution_count": 6,
      "outputs": [
        {
          "output_type": "stream",
          "text": [
            "record_id                         0\n",
            "utility_id_ferc1                  0\n",
            "report_year                       0\n",
            "plant_name_ferc1                  0\n",
            "fuel_type_code_pudl               0\n",
            "fuel_unit                       180\n",
            "fuel_qty_burned                   0\n",
            "fuel_mmbtu_per_unit               0\n",
            "fuel_cost_per_unit_burned         0\n",
            "fuel_cost_per_unit_delivered      0\n",
            "fuel_cost_per_mmbtu               0\n",
            "dtype: int64\n"
          ],
          "name": "stdout"
        }
      ]
    },
    {
      "cell_type": "code",
      "metadata": {
        "colab": {
          "base_uri": "https://localhost:8080/"
        },
        "id": "01o47JZ1zM1-",
        "outputId": "ee72c557-df67-4f20-9b75-5a9b85d63a25"
      },
      "source": [
        "print(fuel.iloc[-1])\n",
        "# index is 29522 so total is 29523"
      ],
      "execution_count": 7,
      "outputs": [
        {
          "output_type": "stream",
          "text": [
            "record_id                       f1_fuel_2018_12_12_1_14\n",
            "utility_id_ferc1                                     12\n",
            "report_year                                        2018\n",
            "plant_name_ferc1                        wygen 3 bhp 52%\n",
            "fuel_type_code_pudl                                 gas\n",
            "fuel_unit                                           mcf\n",
            "fuel_qty_burned                                   17853\n",
            "fuel_mmbtu_per_unit                               1.059\n",
            "fuel_cost_per_unit_burned                             0\n",
            "fuel_cost_per_unit_delivered                          0\n",
            "fuel_cost_per_mmbtu                               11.68\n",
            "Name: 29522, dtype: object\n"
          ],
          "name": "stdout"
        }
      ]
    },
    {
      "cell_type": "code",
      "metadata": {
        "colab": {
          "base_uri": "https://localhost:8080/"
        },
        "id": "S_r1it6NzRSI",
        "outputId": "38c091cb-30df-4222-c04d-88609365c522"
      },
      "source": [
        "print(180/29523) #0.00609694136774718\n",
        "# answer is 0.006 to three decimal places"
      ],
      "execution_count": 8,
      "outputs": [
        {
          "output_type": "stream",
          "text": [
            "0.00609694136774718\n"
          ],
          "name": "stdout"
        }
      ]
    },
    {
      "cell_type": "code",
      "metadata": {
        "id": "ok8ZCOw2zk5F"
      },
      "source": [
        "#categorical == fuel unit and mode imputation would be used"
      ],
      "execution_count": 9,
      "outputs": []
    },
    {
      "cell_type": "code",
      "metadata": {
        "colab": {
          "base_uri": "https://localhost:8080/"
        },
        "id": "X867EelI0ooS",
        "outputId": "7d475960-d052-401f-b6d6-7ec23f7a6a56"
      },
      "source": [
        "# Which of the features has the second and third lowest correlation with the Fuel Cost Per Unit Burned?\n",
        "corr = fuel.corr()\n",
        "corr[\"fuel_cost_per_unit_burned\"].sort_values()[1:3]\n",
        "# answer is fuel_qty_burned and fuel_mmbtu_per_unit"
      ],
      "execution_count": 10,
      "outputs": [
        {
          "output_type": "execute_result",
          "data": {
            "text/plain": [
              "fuel_qty_burned       -0.018535\n",
              "fuel_mmbtu_per_unit   -0.010034\n",
              "Name: fuel_cost_per_unit_burned, dtype: float64"
            ]
          },
          "metadata": {},
          "execution_count": 10
        }
      ]
    },
    {
      "cell_type": "code",
      "metadata": {
        "colab": {
          "base_uri": "https://localhost:8080/",
          "height": 456
        },
        "id": "JXVKB4Ak1pu5",
        "outputId": "53d25389-0692-4b14-e3d4-ef209d175e38"
      },
      "source": [
        "#For the fuel type coal, what is the percentage change in the fuel cost per unit burned in 1998 compared to 1994?\n",
        "\n",
        "\n",
        "coal = fuel.loc[fuel[\"fuel_type_code_pudl\"] ==\"coal\"]\n",
        "years_dict={ 1994:0 , 1998:0 } # all coal burned in 1994 then 1998 \n",
        "\n",
        "for index, row in coal.iterrows():\n",
        "    if row[\"report_year\"]in years_dict.keys():\n",
        "      years_dict[row[\"report_year\"]] += row[\"fuel_cost_per_unit_burned\"]\n",
        "\n",
        "difference = years_dict[1994]- years_dict[1998] \n",
        "sum = years_dict[1998]+ years_dict[1994]\n",
        "percentage = (difference / sum) * 100\n",
        "print(percentage)\n",
        "coal\n",
        "# answer is plus or minus 11.46262367748719 but I chose 18 because I couldn't fully implement the code before time was out"
      ],
      "execution_count": 11,
      "outputs": [
        {
          "output_type": "stream",
          "text": [
            "11.46262367748719\n"
          ],
          "name": "stdout"
        },
        {
          "output_type": "execute_result",
          "data": {
            "text/html": [
              "<div>\n",
              "<style scoped>\n",
              "    .dataframe tbody tr th:only-of-type {\n",
              "        vertical-align: middle;\n",
              "    }\n",
              "\n",
              "    .dataframe tbody tr th {\n",
              "        vertical-align: top;\n",
              "    }\n",
              "\n",
              "    .dataframe thead th {\n",
              "        text-align: right;\n",
              "    }\n",
              "</style>\n",
              "<table border=\"1\" class=\"dataframe\">\n",
              "  <thead>\n",
              "    <tr style=\"text-align: right;\">\n",
              "      <th></th>\n",
              "      <th>record_id</th>\n",
              "      <th>utility_id_ferc1</th>\n",
              "      <th>report_year</th>\n",
              "      <th>plant_name_ferc1</th>\n",
              "      <th>fuel_type_code_pudl</th>\n",
              "      <th>fuel_unit</th>\n",
              "      <th>fuel_qty_burned</th>\n",
              "      <th>fuel_mmbtu_per_unit</th>\n",
              "      <th>fuel_cost_per_unit_burned</th>\n",
              "      <th>fuel_cost_per_unit_delivered</th>\n",
              "      <th>fuel_cost_per_mmbtu</th>\n",
              "    </tr>\n",
              "  </thead>\n",
              "  <tbody>\n",
              "    <tr>\n",
              "      <th>0</th>\n",
              "      <td>f1_fuel_1994_12_1_0_7</td>\n",
              "      <td>1</td>\n",
              "      <td>1994</td>\n",
              "      <td>rockport</td>\n",
              "      <td>coal</td>\n",
              "      <td>ton</td>\n",
              "      <td>5377489.0</td>\n",
              "      <td>16.59000</td>\n",
              "      <td>18.590</td>\n",
              "      <td>18.530</td>\n",
              "      <td>1.121</td>\n",
              "    </tr>\n",
              "    <tr>\n",
              "      <th>1</th>\n",
              "      <td>f1_fuel_1994_12_1_0_10</td>\n",
              "      <td>1</td>\n",
              "      <td>1994</td>\n",
              "      <td>rockport total plant</td>\n",
              "      <td>coal</td>\n",
              "      <td>ton</td>\n",
              "      <td>10486945.0</td>\n",
              "      <td>16.59200</td>\n",
              "      <td>18.580</td>\n",
              "      <td>18.530</td>\n",
              "      <td>1.120</td>\n",
              "    </tr>\n",
              "    <tr>\n",
              "      <th>2</th>\n",
              "      <td>f1_fuel_1994_12_2_0_1</td>\n",
              "      <td>2</td>\n",
              "      <td>1994</td>\n",
              "      <td>gorgas</td>\n",
              "      <td>coal</td>\n",
              "      <td>ton</td>\n",
              "      <td>2978683.0</td>\n",
              "      <td>24.13000</td>\n",
              "      <td>39.720</td>\n",
              "      <td>38.120</td>\n",
              "      <td>1.650</td>\n",
              "    </tr>\n",
              "    <tr>\n",
              "      <th>3</th>\n",
              "      <td>f1_fuel_1994_12_2_0_7</td>\n",
              "      <td>2</td>\n",
              "      <td>1994</td>\n",
              "      <td>barry</td>\n",
              "      <td>coal</td>\n",
              "      <td>ton</td>\n",
              "      <td>3739484.0</td>\n",
              "      <td>23.95000</td>\n",
              "      <td>47.210</td>\n",
              "      <td>45.990</td>\n",
              "      <td>1.970</td>\n",
              "    </tr>\n",
              "    <tr>\n",
              "      <th>5</th>\n",
              "      <td>f1_fuel_1994_12_2_0_13</td>\n",
              "      <td>2</td>\n",
              "      <td>1994</td>\n",
              "      <td>e. c. gaston-unit 5</td>\n",
              "      <td>coal</td>\n",
              "      <td>ton</td>\n",
              "      <td>2124933.0</td>\n",
              "      <td>23.92200</td>\n",
              "      <td>44.240</td>\n",
              "      <td>43.250</td>\n",
              "      <td>1.850</td>\n",
              "    </tr>\n",
              "    <tr>\n",
              "      <th>...</th>\n",
              "      <td>...</td>\n",
              "      <td>...</td>\n",
              "      <td>...</td>\n",
              "      <td>...</td>\n",
              "      <td>...</td>\n",
              "      <td>...</td>\n",
              "      <td>...</td>\n",
              "      <td>...</td>\n",
              "      <td>...</td>\n",
              "      <td>...</td>\n",
              "      <td>...</td>\n",
              "    </tr>\n",
              "    <tr>\n",
              "      <th>29503</th>\n",
              "      <td>f1_fuel_2018_12_191_1_14</td>\n",
              "      <td>191</td>\n",
              "      <td>2018</td>\n",
              "      <td>lawrence</td>\n",
              "      <td>coal</td>\n",
              "      <td>ton</td>\n",
              "      <td>1761218.0</td>\n",
              "      <td>17.88832</td>\n",
              "      <td>26.775</td>\n",
              "      <td>27.392</td>\n",
              "      <td>1.497</td>\n",
              "    </tr>\n",
              "    <tr>\n",
              "      <th>29510</th>\n",
              "      <td>f1_fuel_2018_12_403_0_2</td>\n",
              "      <td>403</td>\n",
              "      <td>2018</td>\n",
              "      <td>wygen 2</td>\n",
              "      <td>coal</td>\n",
              "      <td>ton</td>\n",
              "      <td>569800.0</td>\n",
              "      <td>16.11000</td>\n",
              "      <td>14.760</td>\n",
              "      <td>0.810</td>\n",
              "      <td>1.130</td>\n",
              "    </tr>\n",
              "    <tr>\n",
              "      <th>29516</th>\n",
              "      <td>f1_fuel_2018_12_12_0_8</td>\n",
              "      <td>12</td>\n",
              "      <td>2018</td>\n",
              "      <td>neil simpson unit 2</td>\n",
              "      <td>coal</td>\n",
              "      <td>ton</td>\n",
              "      <td>491913.0</td>\n",
              "      <td>16.10000</td>\n",
              "      <td>14.760</td>\n",
              "      <td>17.720</td>\n",
              "      <td>1.100</td>\n",
              "    </tr>\n",
              "    <tr>\n",
              "      <th>29517</th>\n",
              "      <td>f1_fuel_2018_12_12_0_10</td>\n",
              "      <td>12</td>\n",
              "      <td>2018</td>\n",
              "      <td>wyodak - bhp 20%</td>\n",
              "      <td>coal</td>\n",
              "      <td>ton</td>\n",
              "      <td>409637.0</td>\n",
              "      <td>16.06800</td>\n",
              "      <td>13.690</td>\n",
              "      <td>14.310</td>\n",
              "      <td>0.890</td>\n",
              "    </tr>\n",
              "    <tr>\n",
              "      <th>29521</th>\n",
              "      <td>f1_fuel_2018_12_12_1_13</td>\n",
              "      <td>12</td>\n",
              "      <td>2018</td>\n",
              "      <td>wygen 3 bhp 52%</td>\n",
              "      <td>coal</td>\n",
              "      <td>ton</td>\n",
              "      <td>315945.0</td>\n",
              "      <td>16.10800</td>\n",
              "      <td>3.060</td>\n",
              "      <td>14.760</td>\n",
              "      <td>1.110</td>\n",
              "    </tr>\n",
              "  </tbody>\n",
              "</table>\n",
              "<p>8547 rows × 11 columns</p>\n",
              "</div>"
            ],
            "text/plain": [
              "                      record_id  ...  fuel_cost_per_mmbtu\n",
              "0         f1_fuel_1994_12_1_0_7  ...                1.121\n",
              "1        f1_fuel_1994_12_1_0_10  ...                1.120\n",
              "2         f1_fuel_1994_12_2_0_1  ...                1.650\n",
              "3         f1_fuel_1994_12_2_0_7  ...                1.970\n",
              "5        f1_fuel_1994_12_2_0_13  ...                1.850\n",
              "...                         ...  ...                  ...\n",
              "29503  f1_fuel_2018_12_191_1_14  ...                1.497\n",
              "29510   f1_fuel_2018_12_403_0_2  ...                1.130\n",
              "29516    f1_fuel_2018_12_12_0_8  ...                1.100\n",
              "29517   f1_fuel_2018_12_12_0_10  ...                0.890\n",
              "29521   f1_fuel_2018_12_12_1_13  ...                1.110\n",
              "\n",
              "[8547 rows x 11 columns]"
            ]
          },
          "metadata": {},
          "execution_count": 11
        }
      ]
    },
    {
      "cell_type": "code",
      "metadata": {
        "colab": {
          "base_uri": "https://localhost:8080/"
        },
        "id": "64KOLV4h2BN7",
        "outputId": "84f4fda5-a7a5-4f79-907e-fe160c667253"
      },
      "source": [
        "# Which year has the highest average fuel cost per unit delivered? 1997\n",
        "avg_fuel_cost = fuel.groupby(\"report_year\")[['fuel_cost_per_unit_delivered']].mean()\n",
        "maximum = avg_fuel_cost['fuel_cost_per_unit_delivered'].max()\n",
        "f_c_p_u_d = avg_fuel_cost['fuel_cost_per_unit_delivered']\n",
        "for the_one in f_c_p_u_d.keys():\n",
        "  if f_c_p_u_d[the_one] == maximum:\n",
        "    print(the_one,maximum, sep=\"\\n\")\n",
        "# answer is 1997"
      ],
      "execution_count": 12,
      "outputs": [
        {
          "output_type": "stream",
          "text": [
            "1997\n",
            "11140.19723948813\n"
          ],
          "name": "stdout"
        }
      ]
    }
  ]
}