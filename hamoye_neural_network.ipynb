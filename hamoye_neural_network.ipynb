{
  "nbformat": 4,
  "nbformat_minor": 0,
  "metadata": {
    "colab": {
      "name": "hamoye_neural_network.ipynb",
      "provenance": [],
      "authorship_tag": "ABX9TyOiVUAk1QnSpXV1oq8UgcsY",
      "include_colab_link": true
    },
    "kernelspec": {
      "name": "python3",
      "display_name": "Python 3"
    },
    "language_info": {
      "name": "python"
    },
    "accelerator": "GPU"
  },
  "cells": [
    {
      "cell_type": "markdown",
      "metadata": {
        "id": "view-in-github",
        "colab_type": "text"
      },
      "source": [
        "<a href=\"https://colab.research.google.com/github/ojetokun/electricity_stats/blob/master/hamoye_neural_network.ipynb\" target=\"_parent\"><img src=\"https://colab.research.google.com/assets/colab-badge.svg\" alt=\"Open In Colab\"/></a>"
      ]
    },
    {
      "cell_type": "code",
      "metadata": {
        "id": "tsmfid4cEV5z"
      },
      "source": [
        "api_token = {\"username\":\"lanreojetokun\",\"key\":\"verySecret\"}\n",
        "!mkdir ~/.kaggle\n",
        "!touch ~/.kaggle/kaggle.json\n",
        "import json\n",
        "with open('/root/.kaggle/kaggle.json', 'w') as file:\n",
        "    json.dump(api_token, file)\n",
        "!chmod 600 ~/.kaggle/kaggle.json"
      ],
      "execution_count": 1,
      "outputs": []
    },
    {
      "cell_type": "code",
      "metadata": {
        "colab": {
          "base_uri": "https://localhost:8080/"
        },
        "id": "lLWRaKlOPTPG",
        "outputId": "54f1aba4-92e4-47ae-943f-9c95400742f3"
      },
      "source": [
        "!kaggle datasets download -d nikitarom/planets-dataset"
      ],
      "execution_count": 1,
      "outputs": [
        {
          "output_type": "stream",
          "name": "stdout",
          "text": [
            "planets-dataset.zip: Skipping, found more recently modified local copy (use --force to force download)\n"
          ]
        }
      ]
    },
    {
      "cell_type": "code",
      "metadata": {
        "id": "sx34O7rCTPnK"
      },
      "source": [
        "!unzip planets-dataset.zip"
      ],
      "execution_count": null,
      "outputs": []
    },
    {
      "cell_type": "code",
      "metadata": {
        "id": "Edmp6kwATrXp"
      },
      "source": [
        "import pandas as pd\n",
        "import numpy as np\n",
        "train_df = pd.read_csv(\"planet/planet/train_classes.csv\")\n",
        "split = train_df['tags'].map(lambda x: x.split(' '))\n",
        "labels = list(set([y for x in split.values for y in x]))"
      ],
      "execution_count": 2,
      "outputs": []
    },
    {
      "cell_type": "code",
      "metadata": {
        "id": "GfJ5cl1QWQ5c"
      },
      "source": [
        "import cv2\n",
        "def load_data(df_train, labels, resize):\n",
        "    X_train = []\n",
        "    y_train = []\n",
        "\n",
        "    label_map = {l: i for i, l in enumerate(labels)}\n",
        "    inv_label_map = {i: l for l, i in label_map.items()}\n",
        "\n",
        "    for f, tags in df_train.values:\n",
        "        img = cv2.imread('planet/planet/train-jpg/{}.jpg'.format(f))\n",
        "        targets = np.zeros(17)\n",
        "        for t in tags.split(' '):\n",
        "            targets[label_map[t]] = 1 \n",
        "\n",
        "        X_train.append(cv2.resize(img,resize))\n",
        "        y_train.append(targets)\n",
        "        \n",
        "    y_train = np.array(y_train, np.uint8)\n",
        "    X_train = np.array(X_train, np.float16) / 255.\n",
        "\n",
        "    return X_train, y_train"
      ],
      "execution_count": 3,
      "outputs": []
    },
    {
      "cell_type": "code",
      "metadata": {
        "id": "zt0nGVk2WYOr"
      },
      "source": [
        "\n",
        "end = 20000 # used only 20,000 because of RAM\n",
        "train_df = train_df[:end]\n",
        "X, y = load_data(train_df, labels, resize=(128, 128))\n"
      ],
      "execution_count": 4,
      "outputs": []
    },
    {
      "cell_type": "code",
      "metadata": {
        "id": "9ux5DF0YckPt"
      },
      "source": [
        "#free RAM\n",
        "del train_df,split"
      ],
      "execution_count": 5,
      "outputs": []
    },
    {
      "cell_type": "code",
      "metadata": {
        "colab": {
          "base_uri": "https://localhost:8080/"
        },
        "id": "2rmEfGvhY1CS",
        "outputId": "a70c45bf-b319-463f-a17d-4747bb9e292b"
      },
      "source": [
        "import keras\n",
        "from keras import backend as K\n",
        "from keras.models import Sequential\n",
        "from keras.layers import Dense, Dropout, Flatten\n",
        "from keras.layers import Conv2D, MaxPool2D\n",
        "model = Sequential([\n",
        "    Conv2D(32, kernel_size=(3, 3), activation='relu', padding='same', input_shape=(128, 128, 3)),\n",
        "    MaxPool2D(pool_size=(2, 2)),\n",
        "\n",
        "\n",
        "    \n",
        "    Conv2D(64, kernel_size=(3, 3), activation='relu', padding='same'),\n",
        "    MaxPool2D(pool_size=(2, 2)),\n",
        "    Dropout(0.2),\n",
        "\n",
        "\n",
        "    Conv2D(128, kernel_size=(3, 3), activation='relu', padding='same'),\n",
        "    \n",
        "    MaxPool2D(pool_size=(2, 2)),\n",
        "    Conv2D(256, kernel_size=(3, 3), activation='relu', padding='same'),\n",
        "    MaxPool2D(pool_size=(2, 2)),\n",
        "    Dropout(0.2),\n",
        "    \n",
        "\n",
        "    Flatten(),\n",
        "\n",
        "    Dense(100, activation='relu'),\n",
        "    Dense(17, activation='sigmoid') \n",
        "])\n",
        "\n",
        "model.compile(loss='binary_crossentropy', optimizer='adam')\n",
        "model.summary()"
      ],
      "execution_count": 6,
      "outputs": [
        {
          "output_type": "stream",
          "name": "stdout",
          "text": [
            "Model: \"sequential\"\n",
            "_________________________________________________________________\n",
            "Layer (type)                 Output Shape              Param #   \n",
            "=================================================================\n",
            "conv2d (Conv2D)              (None, 128, 128, 32)      896       \n",
            "_________________________________________________________________\n",
            "max_pooling2d (MaxPooling2D) (None, 64, 64, 32)        0         \n",
            "_________________________________________________________________\n",
            "conv2d_1 (Conv2D)            (None, 64, 64, 64)        18496     \n",
            "_________________________________________________________________\n",
            "max_pooling2d_1 (MaxPooling2 (None, 32, 32, 64)        0         \n",
            "_________________________________________________________________\n",
            "dropout (Dropout)            (None, 32, 32, 64)        0         \n",
            "_________________________________________________________________\n",
            "conv2d_2 (Conv2D)            (None, 32, 32, 128)       73856     \n",
            "_________________________________________________________________\n",
            "max_pooling2d_2 (MaxPooling2 (None, 16, 16, 128)       0         \n",
            "_________________________________________________________________\n",
            "conv2d_3 (Conv2D)            (None, 16, 16, 256)       295168    \n",
            "_________________________________________________________________\n",
            "max_pooling2d_3 (MaxPooling2 (None, 8, 8, 256)         0         \n",
            "_________________________________________________________________\n",
            "dropout_1 (Dropout)          (None, 8, 8, 256)         0         \n",
            "_________________________________________________________________\n",
            "flatten (Flatten)            (None, 16384)             0         \n",
            "_________________________________________________________________\n",
            "dense (Dense)                (None, 100)               1638500   \n",
            "_________________________________________________________________\n",
            "dense_1 (Dense)              (None, 17)                1717      \n",
            "=================================================================\n",
            "Total params: 2,028,633\n",
            "Trainable params: 2,028,633\n",
            "Non-trainable params: 0\n",
            "_________________________________________________________________\n"
          ]
        }
      ]
    },
    {
      "cell_type": "code",
      "metadata": {
        "id": "0uuwkGENaoai"
      },
      "source": [
        "from sklearn.model_selection import train_test_split\n",
        "import time\n",
        "X_train, X_val, y_train, y_val = train_test_split(X, y, test_size=0.3, random_state = 1)"
      ],
      "execution_count": 7,
      "outputs": []
    },
    {
      "cell_type": "code",
      "metadata": {
        "id": "9YwVOtwGc4_V"
      },
      "source": [
        "# free RAM\n",
        "del X,y\n"
      ],
      "execution_count": 8,
      "outputs": []
    },
    {
      "cell_type": "code",
      "metadata": {
        "colab": {
          "base_uri": "https://localhost:8080/"
        },
        "id": "eTxFhGoCZ-0m",
        "outputId": "ece64a4f-bd41-4c4c-b9ba-7d7b5851f39c"
      },
      "source": [
        "model_fit = model.fit(\n",
        "    X_train, y_train,\n",
        "    batch_size=32,\n",
        "    epochs=10,\n",
        "    verbose=1,\n",
        "    validation_data=(X_val, y_val)\n",
        ")"
      ],
      "execution_count": 9,
      "outputs": [
        {
          "output_type": "stream",
          "name": "stdout",
          "text": [
            "Epoch 1/10\n",
            "438/438 [==============================] - 53s 51ms/step - loss: 0.2293 - val_loss: 0.2075\n",
            "Epoch 2/10\n",
            "438/438 [==============================] - 20s 45ms/step - loss: 0.1908 - val_loss: 0.1717\n",
            "Epoch 3/10\n",
            "438/438 [==============================] - 20s 45ms/step - loss: 0.1670 - val_loss: 0.1565\n",
            "Epoch 4/10\n",
            "438/438 [==============================] - 19s 44ms/step - loss: 0.1549 - val_loss: 0.1504\n",
            "Epoch 5/10\n",
            "438/438 [==============================] - 20s 45ms/step - loss: 0.1450 - val_loss: 0.1593\n",
            "Epoch 6/10\n",
            "438/438 [==============================] - 20s 45ms/step - loss: 0.1405 - val_loss: 0.1458\n",
            "Epoch 7/10\n",
            "438/438 [==============================] - 20s 45ms/step - loss: 0.1352 - val_loss: 0.1443\n",
            "Epoch 8/10\n",
            "438/438 [==============================] - 20s 45ms/step - loss: 0.1292 - val_loss: 0.1426\n",
            "Epoch 9/10\n",
            "438/438 [==============================] - 20s 45ms/step - loss: 0.1242 - val_loss: 0.1426\n",
            "Epoch 10/10\n",
            "438/438 [==============================] - 19s 44ms/step - loss: 0.1202 - val_loss: 0.1477\n"
          ]
        }
      ]
    },
    {
      "cell_type": "code",
      "metadata": {
        "colab": {
          "base_uri": "https://localhost:8080/"
        },
        "id": "u07rDDAZsnZ2",
        "outputId": "b612f366-5396-4b46-b5e5-9d3aac4f0c07"
      },
      "source": [
        "import os\n",
        "all_answers =[]\n",
        "file_names = []\n",
        "batch_size = 4000\n",
        "\n",
        "def predict_test(batch,dir):\n",
        "    batch_img = []\n",
        "    \n",
        "    for file in batch:\n",
        "      \n",
        "      img = cv2.imread('{}{}'.format(dir,file))\n",
        "      img = cv2.resize(img,(128,128))\n",
        "      img = np.array(img, np.float16) / 255\n",
        "      batch_img.append(img)\n",
        "      file_names.append([file[:-4]]) # -4 removes the .jpg from filename\n",
        "    batch_img = np.array(batch_img)\n",
        "    \n",
        "    \n",
        "    batch_ans = np.rint(model.predict(batch_img))\n",
        "    batch_ans = batch_ans.astype(np.int32)\n",
        "    \n",
        "    \n",
        "    for each in batch_ans:\n",
        "      ans_string = \"\"\n",
        "      for index,answer in enumerate(each):  \n",
        "        if answer==1:\n",
        "          ans_string += str(labels[index])+\" \"\n",
        "      all_answers.append([ans_string])\n",
        "\n",
        "\n",
        "all_test_files = os.listdir(\"planet/planet/test-jpg\")\n",
        "num_batches = len(all_test_files)//batch_size # batch size 32\n",
        "i = 0\n",
        "for all in range(num_batches):\n",
        "  i+=1\n",
        "  start = batch_size * all\n",
        "  end = start + batch_size\n",
        "  batch = all_test_files[start:end]\n",
        "  predict_test(batch,\"planet/planet/test-jpg/\")\n",
        "  print(str(i)+\" / \"+ str(num_batches))\n",
        "\n",
        "\n",
        "remainder = len(all_test_files)% batch_size\n",
        "if remainder != 0:\n",
        "  start = len(all_test_files) - remainder\n",
        "  rest = all_test_files[start:]\n",
        "  predict_test(rest,\"planet/planet/test-jpg/\")\n",
        "\n",
        "assert len(file_names)==len(all_answers)==len(all_test_files)\n",
        "\n"
      ],
      "execution_count": 37,
      "outputs": [
        {
          "output_type": "stream",
          "name": "stdout",
          "text": [
            "1 / 10\n",
            "2 / 10\n",
            "3 / 10\n",
            "4 / 10\n",
            "5 / 10\n",
            "6 / 10\n",
            "7 / 10\n",
            "8 / 10\n",
            "9 / 10\n",
            "10 / 10\n"
          ]
        }
      ]
    },
    {
      "cell_type": "code",
      "metadata": {
        "colab": {
          "base_uri": "https://localhost:8080/"
        },
        "id": "hEazIffUH8Cz",
        "outputId": "1434acb6-49b1-4713-ae83-19a0ba324df4"
      },
      "source": [
        "\n",
        "\n",
        "all_test_files = os.listdir(\"test-jpg-additional/test-jpg-additional\")\n",
        "num_batches = len(all_test_files)//batch_size \n",
        "i = 0\n",
        "for all in range(num_batches):\n",
        "  i+=1\n",
        "  start = batch_size * all\n",
        "  end = start + batch_size\n",
        "  batch = all_test_files[start:end]\n",
        "  predict_test(batch,\"test-jpg-additional/test-jpg-additional/\")\n",
        "  print(str(i)+\" / \"+ str(num_batches))\n",
        "\n",
        "\n",
        "remainder = len(all_test_files)% batch_size\n",
        "if remainder != 0:\n",
        "  start = len(all_test_files) - remainder\n",
        "  rest = all_test_files[start:]\n",
        "  predict_test(rest,\"test-jpg-additional/test-jpg-additional/\")\n",
        "\n",
        "assert len(file_names)==len(all_answers)\n"
      ],
      "execution_count": 38,
      "outputs": [
        {
          "output_type": "stream",
          "name": "stdout",
          "text": [
            "1 / 5\n",
            "2 / 5\n",
            "3 / 5\n",
            "4 / 5\n",
            "5 / 5\n"
          ]
        }
      ]
    },
    {
      "cell_type": "code",
      "metadata": {
        "colab": {
          "base_uri": "https://localhost:8080/"
        },
        "id": "0-8xpzrsSDtW",
        "outputId": "3ffc2c7a-edf3-45eb-a602-fc9fb4cabc27"
      },
      "source": [
        "len(all_answers)"
      ],
      "execution_count": 31,
      "outputs": [
        {
          "output_type": "execute_result",
          "data": {
            "text/plain": [
              "61191"
            ]
          },
          "metadata": {},
          "execution_count": 31
        }
      ]
    },
    {
      "cell_type": "code",
      "metadata": {
        "colab": {
          "base_uri": "https://localhost:8080/",
          "height": 16
        },
        "id": "5RT7a6BXCDaR",
        "outputId": "7abd56a4-c98e-4afb-f203-f44a71eb6a41"
      },
      "source": [
        "ans2 = np.array(all_answers)\n",
        "file2 = np.array(file_names)\n",
        "both = np.concatenate((file2,ans2),axis = 1)\n",
        "df = pd.DataFrame(both)\n",
        "df.columns = [\"image_name\",\"tags\"]\n",
        "df.to_csv(\"lanre_hamoye.csv\")\n",
        "\n",
        "\n",
        "\n",
        "from google.colab import files\n",
        "files.download(\"lanre_hamoye.csv\")"
      ],
      "execution_count": 39,
      "outputs": [
        {
          "output_type": "display_data",
          "data": {
            "application/javascript": [
              "\n",
              "    async function download(id, filename, size) {\n",
              "      if (!google.colab.kernel.accessAllowed) {\n",
              "        return;\n",
              "      }\n",
              "      const div = document.createElement('div');\n",
              "      const label = document.createElement('label');\n",
              "      label.textContent = `Downloading \"${filename}\": `;\n",
              "      div.appendChild(label);\n",
              "      const progress = document.createElement('progress');\n",
              "      progress.max = size;\n",
              "      div.appendChild(progress);\n",
              "      document.body.appendChild(div);\n",
              "\n",
              "      const buffers = [];\n",
              "      let downloaded = 0;\n",
              "\n",
              "      const channel = await google.colab.kernel.comms.open(id);\n",
              "      // Send a message to notify the kernel that we're ready.\n",
              "      channel.send({})\n",
              "\n",
              "      for await (const message of channel.messages) {\n",
              "        // Send a message to notify the kernel that we're ready.\n",
              "        channel.send({})\n",
              "        if (message.buffers) {\n",
              "          for (const buffer of message.buffers) {\n",
              "            buffers.push(buffer);\n",
              "            downloaded += buffer.byteLength;\n",
              "            progress.value = downloaded;\n",
              "          }\n",
              "        }\n",
              "      }\n",
              "      const blob = new Blob(buffers, {type: 'application/binary'});\n",
              "      const a = document.createElement('a');\n",
              "      a.href = window.URL.createObjectURL(blob);\n",
              "      a.download = filename;\n",
              "      div.appendChild(a);\n",
              "      a.click();\n",
              "      div.remove();\n",
              "    }\n",
              "  "
            ],
            "text/plain": [
              "<IPython.core.display.Javascript object>"
            ]
          },
          "metadata": {}
        },
        {
          "output_type": "display_data",
          "data": {
            "application/javascript": [
              "download(\"download_56eee534-cb7d-4bd7-b288-42fe6b0b8951\", \"lanre_hamoye.csv\", 2338284)"
            ],
            "text/plain": [
              "<IPython.core.display.Javascript object>"
            ]
          },
          "metadata": {}
        }
      ]
    },
    {
      "cell_type": "code",
      "metadata": {
        "id": "jJLO8EsWYnCQ"
      },
      "source": [
        ""
      ],
      "execution_count": 39,
      "outputs": []
    }
  ]
}